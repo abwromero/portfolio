{
 "cells": [
  {
   "cell_type": "markdown",
   "id": "1f2c8f2d",
   "metadata": {},
   "source": [
    "# Lego Database Creation"
   ]
  },
  {
   "cell_type": "markdown",
   "id": "26f1fe32",
   "metadata": {},
   "source": [
    "This notebook intends to create a database from the data loaded by Rachael Tatman on Kaggle\n",
    "\n",
    "Data Collected by Rachel Tatman  \n",
    "Data Source from Rebrickable  \n",
    "Uploaded on Kaggle  \n",
    "Link: https://www.kaggle.com/datasets/rtatman/lego-database"
   ]
  },
  {
   "cell_type": "markdown",
   "id": "c4794646",
   "metadata": {},
   "source": [
    "#### This is the schema provided on Kaggle"
   ]
  },
  {
   "attachments": {
    "downloads_schema.png": {
     "image/png": "[encoded data removed]"
    }
   },
   "cell_type": "markdown",
   "id": "e87b0fff",
   "metadata": {},
   "source": [
    "![downloads_schema.png](attachment:downloads_schema.png)"
   ]
  },
  {
   "cell_type": "code",
   "execution_count": 1,
   "id": "e0bee29e",
   "metadata": {},
   "outputs": [],
   "source": [
    "# Import duckdb and pandas\n",
    "import duckdb\n",
    "import pandas as pd\n",
    "\n",
    "# Input the following magic commands\n",
    "%load_ext sql\n",
    "%config SqlMagic.autopandas = True\n",
    "%config SqlMagic.feedback = False\n",
    "%config SqlMagic.displaycon = False\n",
    "\n",
    "# Load the following database on memory first\n",
    "%sql duckdb:///:memory"
   ]
  },
  {
   "cell_type": "code",
   "execution_count": 2,
   "id": "88472489",
   "metadata": {},
   "outputs": [
    {
     "name": "stdout",
     "output_type": "stream",
     "text": [
      "['part_categories.csv', 'inventories.csv', 'parts.csv', 'inventory_sets.csv', 'inventory_parts.csv', 'colors.csv', 'sets.csv', 'themes.csv']\n"
     ]
    }
   ],
   "source": [
    "# Import os library to get the csv files for the database\n",
    "import os\n",
    "\n",
    "# Collect the file names that end in .csv\n",
    "docs = [file for file in os.listdir() if file.endswith(\".csv\")]\n",
    "\n",
    "# Inspect the list of csv files\n",
    "print(docs)"
   ]
  },
  {
   "cell_type": "code",
   "execution_count": 3,
   "id": "f4f20694",
   "metadata": {},
   "outputs": [],
   "source": [
    "# Convert the csv files to parquet\n",
    "for doc in docs:\n",
    "    word = doc[:-4]\n",
    "    df = pd.read_csv(doc)\n",
    "    df.to_parquet(\"{}.parquet\".format(word))"
   ]
  },
  {
   "cell_type": "code",
   "execution_count": 4,
   "id": "7aef11da",
   "metadata": {},
   "outputs": [],
   "source": [
    "# Create a database called 'lego.db'\n",
    "con = duckdb.connect(database='lego.db', read_only=False)"
   ]
  },
  {
   "cell_type": "code",
   "execution_count": 5,
   "id": "1c81467b",
   "metadata": {},
   "outputs": [
    {
     "data": {
      "text/plain": [
       "<duckdb.DuckDBPyConnection at 0x1640ee0b0>"
      ]
     },
     "execution_count": 5,
     "metadata": {},
     "output_type": "execute_result"
    }
   ],
   "source": [
    "# Create the table for part_categories with the id as the primary key\n",
    "query = '''\n",
    "CREATE TABLE part_categories (\n",
    "id BIGINT PRIMARY KEY,\n",
    "name VARCHAR\n",
    ");\n",
    "'''\n",
    "con.execute(query)"
   ]
  },
  {
   "cell_type": "code",
   "execution_count": 6,
   "id": "774daba9",
   "metadata": {},
   "outputs": [
    {
     "data": {
      "text/plain": [
       "<duckdb.DuckDBPyConnection at 0x1640ee0b0>"
      ]
     },
     "execution_count": 6,
     "metadata": {},
     "output_type": "execute_result"
    }
   ],
   "source": [
    "# Insert the data from the part_categories parquet file to the part_categories table\n",
    "query = '''\n",
    "INSERT INTO part_categories SELECT * FROM read_parquet('part_categories.parquet')\n",
    "'''\n",
    "con.execute(query)"
   ]
  },
  {
   "cell_type": "code",
   "execution_count": 7,
   "id": "9dc71f1a",
   "metadata": {},
   "outputs": [
    {
     "data": {
      "text/plain": [
       "<duckdb.DuckDBPyConnection at 0x1640ee0b0>"
      ]
     },
     "execution_count": 7,
     "metadata": {},
     "output_type": "execute_result"
    }
   ],
   "source": [
    "# Create the parts table with with part_num as the primary key and column part_cat_id referencing part_categories's id column\n",
    "query = '''\n",
    "CREATE TABLE parts (\n",
    "part_num VARCHAR PRIMARY KEY,\n",
    "name VARCHAR,\n",
    "part_cat_id BIGINT,\n",
    "FOREIGN KEY (part_cat_id) REFERENCES part_categories(id)\n",
    ");\n",
    "'''\n",
    "con.execute(query)"
   ]
  },
  {
   "cell_type": "code",
   "execution_count": 8,
   "id": "2b1da129",
   "metadata": {},
   "outputs": [
    {
     "data": {
      "text/plain": [
       "<duckdb.DuckDBPyConnection at 0x1640ee0b0>"
      ]
     },
     "execution_count": 8,
     "metadata": {},
     "output_type": "execute_result"
    }
   ],
   "source": [
    "# Insert the data from the parts parquet file to the parts table\n",
    "query = '''\n",
    "INSERT INTO parts SELECT * FROM read_parquet('parts.parquet')\n",
    "'''\n",
    "con.execute(query)"
   ]
  },
  {
   "cell_type": "code",
   "execution_count": 9,
   "id": "ddd2b530",
   "metadata": {},
   "outputs": [
    {
     "data": {
      "text/plain": [
       "<duckdb.DuckDBPyConnection at 0x1640ee0b0>"
      ]
     },
     "execution_count": 9,
     "metadata": {},
     "output_type": "execute_result"
    }
   ],
   "source": [
    "# Create the colors table with id as the primary key\n",
    "query = '''\n",
    "CREATE TABLE colors (\n",
    "id BIGINT PRIMARY KEY,\n",
    "name VARCHAR,\n",
    "rgb VARCHAR,\n",
    "is_trans VARCHAR\n",
    ");\n",
    "'''\n",
    "con.execute(query)"
   ]
  },
  {
   "cell_type": "code",
   "execution_count": 10,
   "id": "15188578",
   "metadata": {},
   "outputs": [
    {
     "data": {
      "text/plain": [
       "<duckdb.DuckDBPyConnection at 0x1640ee0b0>"
      ]
     },
     "execution_count": 10,
     "metadata": {},
     "output_type": "execute_result"
    }
   ],
   "source": [
    "# Insert the data from the colors parquet file to the colors table\n",
    "query = '''\n",
    "INSERT INTO colors SELECT * FROM read_parquet('colors.parquet')\n",
    "'''\n",
    "con.execute(query)"
   ]
  },
  {
   "cell_type": "code",
   "execution_count": 11,
   "id": "8dd29d86",
   "metadata": {},
   "outputs": [
    {
     "data": {
      "text/plain": [
       "<duckdb.DuckDBPyConnection at 0x1640ee0b0>"
      ]
     },
     "execution_count": 11,
     "metadata": {},
     "output_type": "execute_result"
    }
   ],
   "source": [
    "# Create the themes table with id as the primary key\n",
    "query = '''\n",
    "CREATE TABLE themes (\n",
    "id BIGINT PRIMARY KEY,\n",
    "name VARCHAR,\n",
    "parent_id DOUBLE\n",
    ");\n",
    "'''\n",
    "con.execute(query)"
   ]
  },
  {
   "cell_type": "code",
   "execution_count": 12,
   "id": "04668488",
   "metadata": {},
   "outputs": [
    {
     "data": {
      "text/plain": [
       "<duckdb.DuckDBPyConnection at 0x1640ee0b0>"
      ]
     },
     "execution_count": 12,
     "metadata": {},
     "output_type": "execute_result"
    }
   ],
   "source": [
    "# Insert the data from the themes parquet file into the themes table\n",
    "query = '''\n",
    "INSERT INTO themes SELECT * FROM read_parquet('themes.parquet')\n",
    "'''\n",
    "con.execute(query)"
   ]
  },
  {
   "cell_type": "code",
   "execution_count": 13,
   "id": "34a232c8",
   "metadata": {},
   "outputs": [
    {
     "data": {
      "text/plain": [
       "<duckdb.DuckDBPyConnection at 0x1640ee0b0>"
      ]
     },
     "execution_count": 13,
     "metadata": {},
     "output_type": "execute_result"
    }
   ],
   "source": [
    "# Create the sets table with set_num as the primary key and theme_id referencing themes's id column\n",
    "query = '''\n",
    "CREATE TABLE sets (\n",
    "set_num VARCHAR PRIMARY KEY,\n",
    "name VARCHAR,\n",
    "year BIGINT,\n",
    "theme_id BIGINT,\n",
    "num_parts BIGINT,\n",
    "FOREIGN KEY (theme_id) REFERENCES themes(id)\n",
    ");\n",
    "'''\n",
    "con.execute(query)"
   ]
  },
  {
   "cell_type": "code",
   "execution_count": 14,
   "id": "02a3d47b",
   "metadata": {},
   "outputs": [
    {
     "data": {
      "text/plain": [
       "<duckdb.DuckDBPyConnection at 0x1640ee0b0>"
      ]
     },
     "execution_count": 14,
     "metadata": {},
     "output_type": "execute_result"
    }
   ],
   "source": [
    "# Insert the data from the sets parquet file to the sets table\n",
    "query = '''\n",
    "INSERT INTO sets SELECT * FROM read_parquet('sets.parquet')\n",
    "'''\n",
    "con.execute(query)"
   ]
  },
  {
   "cell_type": "code",
   "execution_count": 15,
   "id": "e1790091",
   "metadata": {},
   "outputs": [
    {
     "data": {
      "text/plain": [
       "<duckdb.DuckDBPyConnection at 0x1640ee0b0>"
      ]
     },
     "execution_count": 15,
     "metadata": {},
     "output_type": "execute_result"
    }
   ],
   "source": [
    "# Create inventories table with id as the primary key and set_num referencing sets's set_num column\n",
    "query = '''\n",
    "CREATE TABLE inventories (\n",
    "id BIGINT PRIMARY KEY,\n",
    "version BIGINT,\n",
    "set_num VARCHAR,\n",
    "FOREIGN KEY (set_num) REFERENCES sets(set_num)\n",
    ");\n",
    "'''\n",
    "con.execute(query)"
   ]
  },
  {
   "cell_type": "code",
   "execution_count": 16,
   "id": "8194554d",
   "metadata": {},
   "outputs": [
    {
     "data": {
      "text/plain": [
       "<duckdb.DuckDBPyConnection at 0x1640ee0b0>"
      ]
     },
     "execution_count": 16,
     "metadata": {},
     "output_type": "execute_result"
    }
   ],
   "source": [
    "# Insert the data from inventories parquet file into the inventories table\n",
    "query = '''\n",
    "INSERT INTO inventories SELECT * FROM read_parquet('inventories.parquet')\n",
    "'''\n",
    "con.execute(query)"
   ]
  },
  {
   "cell_type": "code",
   "execution_count": 17,
   "id": "5e06790c",
   "metadata": {},
   "outputs": [
    {
     "data": {
      "text/plain": [
       "<duckdb.DuckDBPyConnection at 0x1640ee0b0>"
      ]
     },
     "execution_count": 17,
     "metadata": {},
     "output_type": "execute_result"
    }
   ],
   "source": [
    "# Create inventory_sets table with inventory_id referencing inventories's id column and set_num referencing sets's set_num table\n",
    "query = '''\n",
    "CREATE TABLE inventory_sets (\n",
    "inventory_id BIGINT,\n",
    "set_num VARCHAR,\n",
    "quantity BIGINT,\n",
    "FOREIGN KEY (inventory_id) REFERENCES inventories(id), \n",
    "FOREIGN KEY (set_num) REFERENCES sets(set_num)\n",
    ");\n",
    "'''\n",
    "con.execute(query)"
   ]
  },
  {
   "cell_type": "code",
   "execution_count": 18,
   "id": "0e29aa87",
   "metadata": {},
   "outputs": [
    {
     "data": {
      "text/plain": [
       "<duckdb.DuckDBPyConnection at 0x1640ee0b0>"
      ]
     },
     "execution_count": 18,
     "metadata": {},
     "output_type": "execute_result"
    }
   ],
   "source": [
    "# Insert the data from inventory_sets parquet file into the inventory_sets table\n",
    "query = '''\n",
    "INSERT INTO inventory_sets SELECT * FROM read_parquet('inventory_sets.parquet')\n",
    "'''\n",
    "con.execute(query)"
   ]
  },
  {
   "cell_type": "code",
   "execution_count": 19,
   "id": "b3d65fc2",
   "metadata": {},
   "outputs": [
    {
     "data": {
      "text/plain": [
       "<duckdb.DuckDBPyConnection at 0x1640ee0b0>"
      ]
     },
     "execution_count": 19,
     "metadata": {},
     "output_type": "execute_result"
    }
   ],
   "source": [
    "# Create inventory_parts table with inventory_id referencing inventories's id column and color_id referencing colors's id column\n",
    "query = '''\n",
    "CREATE TABLE inventory_parts (\n",
    "inventory_id BIGINT,\n",
    "part_num VARCHAR,\n",
    "color_id BIGINT,\n",
    "quantity BIGINT,\n",
    "is_spare VARCHAR,\n",
    "FOREIGN KEY (inventory_id) REFERENCES inventories(id),\n",
    "FOREIGN KEY (color_id) REFERENCES colors(id)\n",
    ");\n",
    "'''\n",
    "con.execute(query)"
   ]
  },
  {
   "cell_type": "code",
   "execution_count": 20,
   "id": "f79bd2e0",
   "metadata": {},
   "outputs": [
    {
     "data": {
      "text/plain": [
       "<duckdb.DuckDBPyConnection at 0x1640ee0b0>"
      ]
     },
     "execution_count": 20,
     "metadata": {},
     "output_type": "execute_result"
    }
   ],
   "source": [
    "# Insert the data from inventory_parts parquet file into the inventory_parts table\n",
    "query = '''\n",
    "INSERT INTO inventory_parts SELECT * FROM read_parquet('inventory_parts.parquet')\n",
    "'''\n",
    "con.execute(query)"
   ]
  },
  {
   "cell_type": "code",
   "execution_count": 21,
   "id": "4ef84559",
   "metadata": {},
   "outputs": [],
   "source": [
    "# Close the connection\n",
    "con.close()"
   ]
  }
 ],
 "metadata": {
  "kernelspec": {
   "display_name": "Python [conda env:ddb_env] *",
   "language": "python",
   "name": "conda-env-ddb_env-py"
  },
  "language_info": {
   "codemirror_mode": {
    "name": "ipython",
    "version": 3
   },
   "file_extension": ".py",
   "mimetype": "text/x-python",
   "name": "python",
   "nbconvert_exporter": "python",
   "pygments_lexer": "ipython3",
   "version": "3.9.12"
  }
 },
 "nbformat": 4,
 "nbformat_minor": 5
}
